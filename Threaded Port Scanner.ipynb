{
 "cells": [
  {
   "cell_type": "code",
   "execution_count": null,
   "metadata": {},
   "outputs": [],
   "source": [
    "import threading \n",
    "from queue import Queue\n",
    "import time \n",
    "import socket\n",
    "\n",
    "#we are basically locking every print operation, suppose we are counting so till then the thread will be locked\n",
    "print_lock = threading.Lock()\n",
    "target = 'pythonprogramming.net'\n",
    "\n",
    "\n",
    "def portscan(port):\n",
    "    s = socket.socket(socket.AF_INET,socket.SOCK_STREAM)\n",
    "    try:\n",
    "        con = s.connect((target,port))\n",
    "        with print_lock:\n",
    "            print('port',port,'is open!!')\n",
    "        con.close()\n",
    "    except:\n",
    "        pass\n",
    "\n",
    "#def job(worker):\n",
    " #   time.sleep(0.8)\n",
    "    \n",
    "  #  with print_lock:\n",
    "   #     print(threading.current_thread().name,worker)\n",
    "        \n",
    "def threader():\n",
    "    while True:\n",
    "        worker = q.get() #taking a worker from the queue\n",
    "        portscan(worker) #running it on our example job which is also a part of locking\n",
    "        q.task_done() #makes the queue aware that the worker has been unlocked\n",
    "        \n",
    "q = Queue()\n",
    "\n",
    "for x in range(15):\n",
    "    t = threading.Thread(target=threader)\n",
    "    t.daemon = True\n",
    "    t.start()\n",
    "\n",
    "start = time.time()\n",
    "\n",
    "for worker in range(1,101):\n",
    "    q.put(worker)\n",
    "\n",
    "q.join()\n"
   ]
  },
  {
   "cell_type": "code",
   "execution_count": null,
   "metadata": {},
   "outputs": [],
   "source": []
  }
 ],
 "metadata": {
  "kernelspec": {
   "display_name": "Python 3",
   "language": "python",
   "name": "python3"
  },
  "language_info": {
   "codemirror_mode": {
    "name": "ipython",
    "version": 3
   },
   "file_extension": ".py",
   "mimetype": "text/x-python",
   "name": "python",
   "nbconvert_exporter": "python",
   "pygments_lexer": "ipython3",
   "version": "3.7.6"
  }
 },
 "nbformat": 4,
 "nbformat_minor": 4
}
