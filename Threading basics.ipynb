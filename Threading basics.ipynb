{
 "cells": [
  {
   "cell_type": "code",
   "execution_count": 8,
   "metadata": {},
   "outputs": [
    {
     "name": "stdout",
     "output_type": "stream",
     "text": [
      "Thread-110 14\n",
      "Thread-102 6\n",
      "Thread-100 4\n",
      "Thread-99 3\n",
      "Thread-97 1\n",
      "Thread-104 8\n",
      "Thread-108 12\n",
      "Thread-98 2\n",
      "Thread-109 13\n",
      "Thread-106 10\n",
      "Thread-103 7\n",
      "Thread-105 9\n",
      "Thread-101 5\n",
      "Thread-96 0\n",
      "Thread-107 11\n",
      "Thread-110 15\n",
      "Thread-102 16\n",
      "Thread-100 17\n",
      "Thread-99 18\n",
      "Thread-97 19\n",
      "Thread-104 20\n",
      "Thread-108 21\n",
      "Thread-98 22\n",
      "Thread-109 23\n",
      "Thread-106 24\n",
      "Thread-103 25\n",
      "Thread-105 26\n",
      "Thread-101 27\n",
      "Thread-96 28\n",
      "Thread-107 29\n",
      "total time taken was 1.6569509506225586 seconds\n"
     ]
    }
   ],
   "source": [
    "import threading \n",
    "from queue import Queue\n",
    "import time \n",
    "\n",
    "#we are basically locking every print operation, suppose we are counting so till then the thread will be locked\n",
    "print_lock = threading.Lock()\n",
    "\n",
    "def job(worker):\n",
    "    time.sleep(0.8)\n",
    "    \n",
    "    with print_lock:\n",
    "        print(threading.current_thread().name,worker)\n",
    "        \n",
    "def threader():\n",
    "    while True:\n",
    "        worker = q.get() #taking a worker from the queue\n",
    "        job(worker) #running it on our example job which is also a part of locking\n",
    "        q.task_done() #makes the queue aware that the worker has been unlocked\n",
    "        \n",
    "q = Queue()\n",
    "\n",
    "for x in range(15):\n",
    "    t = threading.Thread(target=threader)\n",
    "    t.daemon = True\n",
    "    t.start()\n",
    "\n",
    "start = time.time()\n",
    "\n",
    "for worker in range(30):\n",
    "    q.put(worker)\n",
    "\n",
    "q.join()\n",
    "end = time.time()\n",
    "print('total time taken was', end-start, 'seconds')\n",
    "with q.mutex:\n",
    "    q.queue.clear()\n"
   ]
  },
  {
   "cell_type": "code",
   "execution_count": null,
   "metadata": {},
   "outputs": [],
   "source": []
  }
 ],
 "metadata": {
  "kernelspec": {
   "display_name": "Python 3",
   "language": "python",
   "name": "python3"
  },
  "language_info": {
   "codemirror_mode": {
    "name": "ipython",
    "version": 3
   },
   "file_extension": ".py",
   "mimetype": "text/x-python",
   "name": "python",
   "nbconvert_exporter": "python",
   "pygments_lexer": "ipython3",
   "version": "3.7.6"
  }
 },
 "nbformat": 4,
 "nbformat_minor": 4
}
